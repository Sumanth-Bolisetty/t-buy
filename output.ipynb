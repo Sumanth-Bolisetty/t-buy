{
 "cells": [
  {
   "cell_type": "code",
   "execution_count": 1,
   "id": "191229af",
   "metadata": {
    "execution": {
     "iopub.execute_input": "2023-03-30T09:47:29.979741Z",
     "iopub.status.busy": "2023-03-30T09:47:29.979041Z",
     "iopub.status.idle": "2023-03-30T09:47:29.990220Z",
     "shell.execute_reply": "2023-03-30T09:47:29.989256Z"
    },
    "papermill": {
     "duration": 0.018815,
     "end_time": "2023-03-30T09:47:29.994412",
     "exception": false,
     "start_time": "2023-03-30T09:47:29.975597",
     "status": "completed"
    },
    "tags": []
   },
   "outputs": [
    {
     "name": "stdout",
     "output_type": "stream",
     "text": [
      "Hello\n"
     ]
    }
   ],
   "source": [
    "f=open(\"hello.txt\",\"a\")\n",
    "f.write(\"Hello\")\n",
    "f.close()\n",
    "print(\"Hello\")"
   ]
  }
 ],
 "metadata": {
  "kernelspec": {
   "display_name": "Python 3",
   "language": "python",
   "name": "python3"
  },
  "language_info": {
   "codemirror_mode": {
    "name": "ipython",
    "version": 3
   },
   "file_extension": ".py",
   "mimetype": "text/x-python",
   "name": "python",
   "nbconvert_exporter": "python",
   "pygments_lexer": "ipython3",
   "version": "3.8.16"
  },
  "papermill": {
   "default_parameters": {},
   "duration": 1.866344,
   "end_time": "2023-03-30T09:47:30.215173",
   "environment_variables": {},
   "exception": null,
   "input_path": "review.ipynb",
   "output_path": "output.ipynb",
   "parameters": {},
   "start_time": "2023-03-30T09:47:28.348829",
   "version": "2.4.0"
  }
 },
 "nbformat": 4,
 "nbformat_minor": 5
}